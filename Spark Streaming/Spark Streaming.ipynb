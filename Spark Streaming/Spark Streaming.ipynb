{
 "cells": [
  {
   "cell_type": "code",
   "execution_count": 0,
   "metadata": {
    "application/vnd.databricks.v1+cell": {
     "cellMetadata": {
      "byteLimit": 2048000,
      "rowLimit": 10000
     },
     "inputWidgets": {},
     "nuid": "ed22fcec-608e-4b87-8ee2-09e86f990e1a",
     "showTitle": true,
     "title": "Consume Data from Kafka"
    }
   },
   "outputs": [
    {
     "output_type": "display_data",
     "data": {
      "text/html": [
       "<style scoped>\n",
       "  .table-result-container {\n",
       "    max-height: 300px;\n",
       "    overflow: auto;\n",
       "  }\n",
       "  table, th, td {\n",
       "    border: 1px solid black;\n",
       "    border-collapse: collapse;\n",
       "  }\n",
       "  th, td {\n",
       "    padding: 5px;\n",
       "  }\n",
       "  th {\n",
       "    text-align: left;\n",
       "  }\n",
       "</style><div class='table-result-container'><table class='table-result'><thead style='background-color: white'><tr><th>key</th><th>value</th><th>topic</th><th>partition</th><th>offset</th><th>timestamp</th><th>timestampType</th></tr></thead><tbody><tr><td>NTgxNDgy</td><td>eyJUcmFuc2FjdGlvbk5vIjogNTgxNDgyLCAiRGF0ZSI6ICIxMi85LzIwMTkiLCAiUHJvZHVjdE5vIjogMjI0ODUsICJQcm9kdWN0TmFtZSI6ICJTZXQgT2YgMiBXb29kZW4gTWFya2V0IENyYXRlcyIsICJQcmljZSI6IDIxLjQ= (truncated)</td><td>Transactions</td><td>5</td><td>0</td><td>2023-11-16T15:58:28.180+0000</td><td>0</td></tr><tr><td>NTgxNDc1</td><td>eyJUcmFuc2FjdGlvbk5vIjogNTgxNDc1LCAiRGF0ZSI6ICIxMi85LzIwMTkiLCAiUHJvZHVjdE5vIjogMjI1OTYsICJQcm9kdWN0TmFtZSI6ICJDaHJpc3RtYXMgU3RhciBXaXNoIExpc3QgQ2hhbGtib2FyZCIsICJQcmljZSI= (truncated)</td><td>Transactions</td><td>5</td><td>1</td><td>2023-11-16T15:58:28.180+0000</td><td>0</td></tr><tr><td>NTgxNDc1</td><td>eyJUcmFuc2FjdGlvbk5vIjogNTgxNDc1LCAiRGF0ZSI6ICIxMi85LzIwMTkiLCAiUHJvZHVjdE5vIjogMjMyMzUsICJQcm9kdWN0TmFtZSI6ICJTdG9yYWdlIFRpbiBWaW50YWdlIExlYWYiLCAiUHJpY2UiOiAxMS41MywgIlE= (truncated)</td><td>Transactions</td><td>5</td><td>2</td><td>2023-11-16T15:58:28.180+0000</td><td>0</td></tr><tr><td>NTgxNDc1</td><td>eyJUcmFuc2FjdGlvbk5vIjogNTgxNDc1LCAiRGF0ZSI6ICIxMi85LzIwMTkiLCAiUHJvZHVjdE5vIjogMjMyNzIsICJQcm9kdWN0TmFtZSI6ICJUcmVlIFQtTGlnaHQgSG9sZGVyIFdpbGxpZSBXaW5raWUiLCAiUHJpY2UiOiA= (truncated)</td><td>Transactions</td><td>5</td><td>3</td><td>2023-11-16T15:58:28.180+0000</td><td>0</td></tr><tr><td>NTgxNDc1</td><td>eyJUcmFuc2FjdGlvbk5vIjogNTgxNDc1LCAiRGF0ZSI6ICIxMi85LzIwMTkiLCAiUHJvZHVjdE5vIjogMjMyMzksICJQcm9kdWN0TmFtZSI6ICJTZXQgT2YgNCBLbmljayBLbmFjayBUaW5zIFBvcHBpZXMiLCAiUHJpY2UiOiA= (truncated)</td><td>Transactions</td><td>5</td><td>4</td><td>2023-11-16T15:58:28.180+0000</td><td>0</td></tr><tr><td>NTgxNDc1</td><td>eyJUcmFuc2FjdGlvbk5vIjogNTgxNDc1LCAiRGF0ZSI6ICIxMi85LzIwMTkiLCAiUHJvZHVjdE5vIjogMjE3MDUsICJQcm9kdWN0TmFtZSI6ICJCYWcgNTAwZyBTd2lybHkgTWFyYmxlcyIsICJQcmljZSI6IDEwLjY1LCAiUXU= (truncated)</td><td>Transactions</td><td>5</td><td>5</td><td>2023-11-16T15:58:28.180+0000</td><td>0</td></tr><tr><td>NTgxNDc1</td><td>eyJUcmFuc2FjdGlvbk5vIjogNTgxNDc1LCAiRGF0ZSI6ICIxMi85LzIwMTkiLCAiUHJvZHVjdE5vIjogMjIxMTgsICJQcm9kdWN0TmFtZSI6ICJKb3kgV29vZGVuIEJsb2NrIExldHRlcnMiLCAiUHJpY2UiOiAxMS41MywgIlE= (truncated)</td><td>Transactions</td><td>5</td><td>6</td><td>2023-11-16T15:58:28.180+0000</td><td>0</td></tr><tr><td>NTgxNDc1</td><td>eyJUcmFuc2FjdGlvbk5vIjogNTgxNDc1LCAiRGF0ZSI6ICIxMi85LzIwMTkiLCAiUHJvZHVjdE5vIjogMjIxMTksICJQcm9kdWN0TmFtZSI6ICJQZWFjZSBXb29kZW4gQmxvY2sgTGV0dGVycyIsICJQcmljZSI6IDEyLjI1LCA= (truncated)</td><td>Transactions</td><td>5</td><td>7</td><td>2023-11-16T15:58:28.180+0000</td><td>0</td></tr><tr><td>NTgxNDc1</td><td>eyJUcmFuc2FjdGlvbk5vIjogNTgxNDc1LCAiRGF0ZSI6ICIxMi85LzIwMTkiLCAiUHJvZHVjdE5vIjogMjIyMTcsICJQcm9kdWN0TmFtZSI6ICJULUxpZ2h0IEhvbGRlciBIYW5naW5nIExhY2UiLCAiUHJpY2UiOiAxMC42NSw= (truncated)</td><td>Transactions</td><td>5</td><td>8</td><td>2023-11-16T15:58:28.180+0000</td><td>0</td></tr><tr><td>NTgxNDc1</td><td>eyJUcmFuc2FjdGlvbk5vIjogNTgxNDc1LCAiRGF0ZSI6ICIxMi85LzIwMTkiLCAiUHJvZHVjdE5vIjogMjIyMTYsICJQcm9kdWN0TmFtZSI6ICJULUxpZ2h0IEhvbGRlciBXaGl0ZSBMYWNlIiwgIlByaWNlIjogMTAuNTUsICI= (truncated)</td><td>Transactions</td><td>5</td><td>9</td><td>2023-11-16T15:58:28.180+0000</td><td>0</td></tr><tr><td>NTgxNDc1</td><td>eyJUcmFuc2FjdGlvbk5vIjogNTgxNDc1LCAiRGF0ZSI6ICIxMi85LzIwMTkiLCAiUHJvZHVjdE5vIjogMjIzODAsICJQcm9kdWN0TmFtZSI6ICJUb3kgVGlkeSBTcGFjZWJveSIsICJQcmljZSI6IDExLjA2LCAiUXVhbnRpdHk= (truncated)</td><td>Transactions</td><td>5</td><td>10</td><td>2023-11-16T15:58:28.180+0000</td><td>0</td></tr><tr><td>NTgxNDc1</td><td>eyJUcmFuc2FjdGlvbk5vIjogNTgxNDc1LCAiRGF0ZSI6ICIxMi85LzIwMTkiLCAiUHJvZHVjdE5vIjogMjI0NDIsICJQcm9kdWN0TmFtZSI6ICJHcm93IFlvdXIgT3duIEZsb3dlcnMgU2V0IE9mIDMiLCAiUHJpY2UiOiAxMi4= (truncated)</td><td>Transactions</td><td>5</td><td>11</td><td>2023-11-16T15:58:28.180+0000</td><td>0</td></tr><tr><td>NTgxNDc1</td><td>eyJUcmFuc2FjdGlvbk5vIjogNTgxNDc1LCAiRGF0ZSI6ICIxMi85LzIwMTkiLCAiUHJvZHVjdE5vIjogMjI2NjQsICJQcm9kdWN0TmFtZSI6ICJUb3kgVGlkeSBEb2xseSBHaXJsIERlc2lnbiIsICJQcmljZSI6IDExLjA2LCA= (truncated)</td><td>Transactions</td><td>5</td><td>12</td><td>2023-11-16T15:58:28.180+0000</td><td>0</td></tr><tr><td>NTgxNDc1</td><td>eyJUcmFuc2FjdGlvbk5vIjogNTgxNDc1LCAiRGF0ZSI6ICIxMi85LzIwMTkiLCAiUHJvZHVjdE5vIjogMjI3MjEsICJQcm9kdWN0TmFtZSI6ICJTZXQgT2YgMyBDYWtlIFRpbnMgU2tldGNoYm9vayIsICJQcmljZSI6IDEyLjI= (truncated)</td><td>Transactions</td><td>5</td><td>13</td><td>2023-11-16T15:58:28.180+0000</td><td>0</td></tr><tr><td>NTgxNDc1</td><td>eyJUcmFuc2FjdGlvbk5vIjogNTgxNDc1LCAiRGF0ZSI6ICIxMi85LzIwMTkiLCAiUHJvZHVjdE5vIjogMjI3MjMsICJQcm9kdWN0TmFtZSI6ICJTZXQgT2YgNiBIZXJiIFRpbnMgU2tldGNoYm9vayIsICJQcmljZSI6IDExLjU= (truncated)</td><td>Transactions</td><td>5</td><td>14</td><td>2023-11-16T15:58:28.180+0000</td><td>0</td></tr><tr><td>NTgxNDc1</td><td>eyJUcmFuc2FjdGlvbk5vIjogNTgxNDc1LCAiRGF0ZSI6ICIxMi85LzIwMTkiLCAiUHJvZHVjdE5vIjogMjI3ODUsICJQcm9kdWN0TmFtZSI6ICJTcXVhcmVjdXNoaW9uIENvdmVyIFBpbmsgVW5pb24gSmFjayIsICJQcmljZSI= (truncated)</td><td>Transactions</td><td>5</td><td>15</td><td>2023-11-16T15:58:28.180+0000</td><td>0</td></tr><tr><td>NTgxNDc1</td><td>eyJUcmFuc2FjdGlvbk5vIjogNTgxNDc1LCAiRGF0ZSI6ICIxMi85LzIwMTkiLCAiUHJvZHVjdE5vIjogMjI5NTUsICJQcm9kdWN0TmFtZSI6ICIzNiBGb2lsIFN0YXIgQ2FrZSBDYXNlcyIsICJQcmljZSI6IDExLjA2LCAiUXU= (truncated)</td><td>Transactions</td><td>5</td><td>16</td><td>2023-11-16T15:58:28.180+0000</td><td>0</td></tr><tr><td>NTgxNDc1</td><td>eyJUcmFuc2FjdGlvbk5vIjogNTgxNDc1LCAiRGF0ZSI6ICIxMi85LzIwMTkiLCAiUHJvZHVjdE5vIjogMjMxNDEsICJQcm9kdWN0TmFtZSI6ICJUcmlwbGUgV2lyZSBIb29rIFBpbmsgSGVhcnQiLCAiUHJpY2UiOiAxMS4wNiw= (truncated)</td><td>Transactions</td><td>5</td><td>17</td><td>2023-11-16T15:58:28.180+0000</td><td>0</td></tr><tr><td>NTgxNDc1</td><td>eyJUcmFuc2FjdGlvbk5vIjogNTgxNDc1LCAiRGF0ZSI6ICIxMi85LzIwMTkiLCAiUHJvZHVjdE5vIjogMjI5NTYsICJQcm9kdWN0TmFtZSI6ICIzNiBGb2lsIEhlYXJ0IENha2UgQ2FzZXMiLCAiUHJpY2UiOiAxMS4wNiwgIlE= (truncated)</td><td>Transactions</td><td>5</td><td>18</td><td>2023-11-16T15:58:28.180+0000</td><td>0</td></tr><tr><td>NTgxNDc1</td><td>eyJUcmFuc2FjdGlvbk5vIjogNTgxNDc1LCAiRGF0ZSI6ICIxMi85LzIwMTkiLCAiUHJvZHVjdE5vIjogMjI1ODEsICJQcm9kdWN0TmFtZSI6ICJXb29kIFN0b2NraW5nIENocmlzdG1hcyBTY2FuZGlzcG90IiwgIlByaWNlIjo= (truncated)</td><td>Transactions</td><td>5</td><td>19</td><td>2023-11-16T15:58:28.181+0000</td><td>0</td></tr><tr><td>NTgxNDc2</td><td>eyJUcmFuc2FjdGlvbk5vIjogNTgxNDc2LCAiRGF0ZSI6ICIxMi85LzIwMTkiLCAiUHJvZHVjdE5vIjogMjMxOTgsICJQcm9kdWN0TmFtZSI6ICJQYW50cnkgTWFnbmV0aWMgU2hvcHBpbmcgTGlzdCIsICJQcmljZSI6IDExLjU= (truncated)</td><td>Transactions</td><td>1</td><td>0</td><td>2023-11-16T15:58:28.180+0000</td><td>0</td></tr><tr><td>NTgxNDc2</td><td>eyJUcmFuc2FjdGlvbk5vIjogNTgxNDc2LCAiRGF0ZSI6ICIxMi85LzIwMTkiLCAiUHJvZHVjdE5vIjogMjMxOTcsICJQcm9kdWN0TmFtZSI6ICJTa2V0Y2hib29rIE1hZ25ldGljIFNob3BwaW5nIExpc3QiLCAiUHJpY2UiOiA= (truncated)</td><td>Transactions</td><td>1</td><td>1</td><td>2023-11-16T15:58:28.181+0000</td><td>0</td></tr><tr><td>NTgxNDc2</td><td>eyJUcmFuc2FjdGlvbk5vIjogNTgxNDc2LCAiRGF0ZSI6ICIxMi85LzIwMTkiLCAiUHJvZHVjdE5vIjogMjMxOTgsICJQcm9kdWN0TmFtZSI6ICJQYW50cnkgTWFnbmV0aWMgU2hvcHBpbmcgTGlzdCIsICJQcmljZSI6IDExLjU= (truncated)</td><td>Transactions</td><td>1</td><td>2</td><td>2023-11-16T15:58:28.181+0000</td><td>0</td></tr><tr><td>NTgxNDc2</td><td>eyJUcmFuc2FjdGlvbk5vIjogNTgxNDc2LCAiRGF0ZSI6ICIxMi85LzIwMTkiLCAiUHJvZHVjdE5vIjogMjMxOTcsICJQcm9kdWN0TmFtZSI6ICJTa2V0Y2hib29rIE1hZ25ldGljIFNob3BwaW5nIExpc3QiLCAiUHJpY2UiOiA= (truncated)</td><td>Transactions</td><td>1</td><td>3</td><td>2023-11-16T15:58:28.181+0000</td><td>0</td></tr><tr><td>NTgxNDc2</td><td>eyJUcmFuc2FjdGlvbk5vIjogNTgxNDc2LCAiRGF0ZSI6ICIxMi85LzIwMTkiLCAiUHJvZHVjdE5vIjogMjMxODQsICJQcm9kdWN0TmFtZSI6ICJCdWxsIERvZyBCb3R0bGUgT3BlbmVyIiwgIlByaWNlIjogMTUuMzIsICJRdWE= (truncated)</td><td>Transactions</td><td>1</td><td>4</td><td>2023-11-16T15:58:28.181+0000</td><td>0</td></tr><tr><td>NTgxNDc2</td><td>eyJUcmFuc2FjdGlvbk5vIjogNTgxNDc2LCAiRGF0ZSI6ICIxMi85LzIwMTkiLCAiUHJvZHVjdE5vIjogMjMxNjgsICJQcm9kdWN0TmFtZSI6ICJDbGFzc2ljIENhZmUgU3VnYXIgRGlzcGVuc2VyIiwgIlByaWNlIjogMTEuNTM= (truncated)</td><td>Transactions</td><td>1</td><td>5</td><td>2023-11-16T15:58:28.181+0000</td><td>0</td></tr><tr><td>NTgxNDc2</td><td>eyJUcmFuc2FjdGlvbk5vIjogNTgxNDc2LCAiRGF0ZSI6ICIxMi85LzIwMTkiLCAiUHJvZHVjdE5vIjogMjMxNjcsICJQcm9kdWN0TmFtZSI6ICJTbWFsbCBDZXJhbWljIFRvcCBTdG9yYWdlIEphciIsICJQcmljZSI6IDEwLjk= (truncated)</td><td>Transactions</td><td>1</td><td>6</td><td>2023-11-16T15:58:28.181+0000</td><td>0</td></tr><tr><td>NTgxNDc2</td><td>eyJUcmFuc2FjdGlvbk5vIjogNTgxNDc2LCAiRGF0ZSI6ICIxMi85LzIwMTkiLCAiUHJvZHVjdE5vIjogMjMxNjYsICJQcm9kdWN0TmFtZSI6ICJNZWRpdW0gQ2VyYW1pYyBUb3AgU3RvcmFnZSBKYXIiLCAiUHJpY2UiOiAxMS4= (truncated)</td><td>Transactions</td><td>1</td><td>7</td><td>2023-11-16T15:58:28.181+0000</td><td>0</td></tr><tr><td>NTgxNDc2</td><td>eyJUcmFuc2FjdGlvbk5vIjogNTgxNDc2LCAiRGF0ZSI6ICIxMi85LzIwMTkiLCAiUHJvZHVjdE5vIjogMjMxNjUsICJQcm9kdWN0TmFtZSI6ICJMYXJnZSBDZXJhbWljIFRvcCBTdG9yYWdlIEphciIsICJQcmljZSI6IDExLjc= (truncated)</td><td>Transactions</td><td>1</td><td>8</td><td>2023-11-16T15:58:28.181+0000</td><td>0</td></tr><tr><td>NTgxNDc2</td><td>eyJUcmFuc2FjdGlvbk5vIjogNTgxNDc2LCAiRGF0ZSI6ICIxMi85LzIwMTkiLCAiUHJvZHVjdE5vIjogMjMwMDQsICJQcm9kdWN0TmFtZSI6ICJUcmF2ZWwgQ2FyZCBXYWxsZXQgUGFudHJ5IiwgIlByaWNlIjogMTAuNjgsICI= (truncated)</td><td>Transactions</td><td>1</td><td>9</td><td>2023-11-16T15:58:28.181+0000</td><td>0</td></tr><tr><td>NTgxNDc2</td><td>eyJUcmFuc2FjdGlvbk5vIjogNTgxNDc2LCAiRGF0ZSI6ICIxMi85LzIwMTkiLCAiUHJvZHVjdE5vIjogMjMwMDIsICJQcm9kdWN0TmFtZSI6ICJUcmF2ZWwgQ2FyZCBXYWxsZXQgU2t1bGxzIiwgIlByaWNlIjogMTAuNjgsICI= (truncated)</td><td>Transactions</td><td>1</td><td>10</td><td>2023-11-16T15:58:28.181+0000</td><td>0</td></tr><tr><td>NTgxNDc2</td><td>eyJUcmFuc2FjdGlvbk5vIjogNTgxNDc2LCAiRGF0ZSI6ICIxMi85LzIwMTkiLCAiUHJvZHVjdE5vIjogMjMwMDAsICJQcm9kdWN0TmFtZSI6ICJUcmF2ZWwgQ2FyZCBXYWxsZXQgVHJhbnNwb3J0IiwgIlByaWNlIjogMTAuNjg= (truncated)</td><td>Transactions</td><td>1</td><td>11</td><td>2023-11-16T15:58:28.181+0000</td><td>0</td></tr><tr><td>NTgxNDc2</td><td>eyJUcmFuc2FjdGlvbk5vIjogNTgxNDc2LCAiRGF0ZSI6ICIxMi85LzIwMTkiLCAiUHJvZHVjdE5vIjogMjI5OTgsICJQcm9kdWN0TmFtZSI6ICJUcmF2ZWwgQ2FyZCBXYWxsZXQgS2VlcCBDYWxtIiwgIlByaWNlIjogMTAuNjg= (truncated)</td><td>Transactions</td><td>1</td><td>12</td><td>2023-11-16T15:58:28.181+0000</td><td>0</td></tr><tr><td>NTgxNDc2</td><td>eyJUcmFuc2FjdGlvbk5vIjogNTgxNDc2LCAiRGF0ZSI6ICIxMi85LzIwMTkiLCAiUHJvZHVjdE5vIjogMjI5OTQsICJQcm9kdWN0TmFtZSI6ICJUcmF2ZWwgQ2FyZCBXYWxsZXQgUmV0cm9zcG90IiwgIlByaWNlIjogMTAuNjg= (truncated)</td><td>Transactions</td><td>1</td><td>13</td><td>2023-11-16T15:58:28.181+0000</td><td>0</td></tr><tr><td>NTgxNDc2</td><td>eyJUcmFuc2FjdGlvbk5vIjogNTgxNDc2LCAiRGF0ZSI6ICIxMi85LzIwMTkiLCAiUHJvZHVjdE5vIjogMjI4MzUsICJQcm9kdWN0TmFtZSI6ICJIb3QgV2F0ZXIgQm90dGxlIEkgQW0gU28gUG9vcmx5IiwgIlByaWNlIjogMTU= (truncated)</td><td>Transactions</td><td>1</td><td>14</td><td>2023-11-16T15:58:28.181+0000</td><td>0</td></tr><tr><td>NTgxNDc2</td><td>eyJUcmFuc2FjdGlvbk5vIjogNTgxNDc2LCAiRGF0ZSI6ICIxMi85LzIwMTkiLCAiUHJvZHVjdE5vIjogMjI3MzAsICJQcm9kdWN0TmFtZSI6ICJBbGFybSBDbG9jayBCYWtlbGlrZSBJdm9yeSIsICJQcmljZSI6IDE0LjA5LCA= (truncated)</td><td>Transactions</td><td>1</td><td>15</td><td>2023-11-16T15:58:28.181+0000</td><td>0</td></tr><tr><td>NTgxNDc2</td><td>eyJUcmFuc2FjdGlvbk5vIjogNTgxNDc2LCAiRGF0ZSI6ICIxMi85LzIwMTkiLCAiUHJvZHVjdE5vIjogMjI3MjgsICJQcm9kdWN0TmFtZSI6ICJBbGFybSBDbG9jayBCYWtlbGlrZSBQaW5rIiwgIlByaWNlIjogMTQuMDksICI= (truncated)</td><td>Transactions</td><td>1</td><td>16</td><td>2023-11-16T15:58:28.181+0000</td><td>0</td></tr><tr><td>NTgxNDc2</td><td>eyJUcmFuc2FjdGlvbk5vIjogNTgxNDc2LCAiRGF0ZSI6ICIxMi85LzIwMTkiLCAiUHJvZHVjdE5vIjogMjI3MjcsICJQcm9kdWN0TmFtZSI6ICJBbGFybSBDbG9jayBCYWtlbGlrZSBSZWQiLCAiUHJpY2UiOiAxNC4wOSwgIlE= (truncated)</td><td>Transactions</td><td>1</td><td>17</td><td>2023-11-16T15:58:28.181+0000</td><td>0</td></tr><tr><td>NTgxNDc2</td><td>eyJUcmFuc2FjdGlvbk5vIjogNTgxNDc2LCAiRGF0ZSI6ICIxMi85LzIwMTkiLCAiUHJvZHVjdE5vIjogMjI3MjYsICJQcm9kdWN0TmFtZSI6ICJBbGFybSBDbG9jayBCYWtlbGlrZSBHcmVlbiIsICJQcmljZSI6IDE0LjA5LCA= (truncated)</td><td>Transactions</td><td>1</td><td>18</td><td>2023-11-16T15:58:28.181+0000</td><td>0</td></tr><tr><td>NTgxNDc2</td><td>eyJUcmFuc2FjdGlvbk5vIjogNTgxNDc2LCAiRGF0ZSI6ICIxMi85LzIwMTkiLCAiUHJvZHVjdE5vIjogMjI3MjAsICJQcm9kdWN0TmFtZSI6ICJTZXQgT2YgMyBDYWtlIFRpbnMgUGFudHJ5IERlc2lnbiIsICJQcmljZSI6IDE= (truncated)</td><td>Transactions</td><td>1</td><td>19</td><td>2023-11-16T15:58:28.181+0000</td><td>0</td></tr><tr><td>NTgxNDc2</td><td>eyJUcmFuc2FjdGlvbk5vIjogNTgxNDc2LCAiRGF0ZSI6ICIxMi85LzIwMTkiLCAiUHJvZHVjdE5vIjogMjI2OTMsICJQcm9kdWN0TmFtZSI6ICJHcm93IEEgRmx5dHJhcCBPciBTdW5mbG93ZXIgSW4gVGluIiwgIlByaWNlIjo= (truncated)</td><td>Transactions</td><td>1</td><td>20</td><td>2023-11-16T15:58:28.181+0000</td><td>0</td></tr><tr><td>NTgxNDc2</td><td>eyJUcmFuc2FjdGlvbk5vIjogNTgxNDc2LCAiRGF0ZSI6ICIxMi85LzIwMTkiLCAiUHJvZHVjdE5vIjogMjI2NzAsICJQcm9kdWN0TmFtZSI6ICJGcmVuY2ggV2MgU2lnbiBCbHVlIE1ldGFsIiwgIlByaWNlIjogMTEuNTMsICI= (truncated)</td><td>Transactions</td><td>1</td><td>21</td><td>2023-11-16T15:58:28.181+0000</td><td>0</td></tr><tr><td>NTgxNDc2</td><td>eyJUcmFuc2FjdGlvbk5vIjogNTgxNDc2LCAiRGF0ZSI6ICIxMi85LzIwMTkiLCAiUHJvZHVjdE5vIjogMjI2NjcsICJQcm9kdWN0TmFtZSI6ICJSZWNpcGUgQm94IFJldHJvc3BvdCIsICJQcmljZSI6IDEyLjg2LCAiUXVhbnQ= (truncated)</td><td>Transactions</td><td>1</td><td>22</td><td>2023-11-16T15:58:28.181+0000</td><td>0</td></tr><tr><td>NTgxNDc2</td><td>eyJUcmFuc2FjdGlvbk5vIjogNTgxNDc2LCAiRGF0ZSI6ICIxMi85LzIwMTkiLCAiUHJvZHVjdE5vIjogMjI2NjYsICJQcm9kdWN0TmFtZSI6ICJSZWNpcGUgQm94IFBhbnRyeSBZZWxsb3cgRGVzaWduIiwgIlByaWNlIjogMTI= (truncated)</td><td>Transactions</td><td>1</td><td>23</td><td>2023-11-16T15:58:28.181+0000</td><td>0</td></tr><tr><td>NTgxNDc2</td><td>eyJUcmFuc2FjdGlvbk5vIjogNTgxNDc2LCAiRGF0ZSI6ICIxMi85LzIwMTkiLCAiUHJvZHVjdE5vIjogMjI2MzEsICJQcm9kdWN0TmFtZSI6ICJDaXJjdXMgUGFyYWRlIEx1bmNoIEJveCIsICJQcmljZSI6IDEyLjI1LCAiUXU= (truncated)</td><td>Transactions</td><td>1</td><td>24</td><td>2023-11-16T15:58:28.181+0000</td><td>0</td></tr><tr><td>NTgxNDc2</td><td>eyJUcmFuc2FjdGlvbk5vIjogNTgxNDc2LCAiRGF0ZSI6ICIxMi85LzIwMTkiLCAiUHJvZHVjdE5vIjogMjI2MjgsICJQcm9kdWN0TmFtZSI6ICJQaWNuaWMgQm94ZXMgU2V0IE9mIDMgUmV0cm9zcG90IiwgIlByaWNlIjogMTU= (truncated)</td><td>Transactions</td><td>1</td><td>25</td><td>2023-11-16T15:58:28.181+0000</td><td>0</td></tr><tr><td>NTgxNDc2</td><td>eyJUcmFuc2FjdGlvbk5vIjogNTgxNDc2LCAiRGF0ZSI6ICIxMi85LzIwMTkiLCAiUHJvZHVjdE5vIjogMjI0NjcsICJQcm9kdWN0TmFtZSI6ICJHdW1iYWxsIENvYXQgUmFjayIsICJQcmljZSI6IDEyLjg2LCAiUXVhbnRpdHk= (truncated)</td><td>Transactions</td><td>1</td><td>26</td><td>2023-11-16T15:58:28.181+0000</td><td>0</td></tr><tr><td>NTgxNDc2</td><td>eyJUcmFuc2FjdGlvbk5vIjogNTgxNDc2LCAiRGF0ZSI6ICIxMi85LzIwMTkiLCAiUHJvZHVjdE5vIjogMjIxOTcsICJQcm9kdWN0TmFtZSI6ICJQb3Bjb3JuIEhvbGRlciIsICJQcmljZSI6IDEwLjk5LCAiUXVhbnRpdHkiOiA= (truncated)</td><td>Transactions</td><td>1</td><td>27</td><td>2023-11-16T15:58:28.181+0000</td><td>0</td></tr><tr><td>NTgxNDc2</td><td>eyJUcmFuc2FjdGlvbk5vIjogNTgxNDc2LCAiRGF0ZSI6ICIxMi85LzIwMTkiLCAiUHJvZHVjdE5vIjogMjIxMTQsICJQcm9kdWN0TmFtZSI6ICJIb3QgV2F0ZXIgQm90dGxlIFRlYSBBbmQgU3ltcGF0aHkiLCAiUHJpY2UiOiA= (truncated)</td><td>Transactions</td><td>1</td><td>28</td><td>2023-11-16T15:58:28.181+0000</td><td>0</td></tr><tr><td>NTgxNDc2</td><td>eyJUcmFuc2FjdGlvbk5vIjogNTgxNDc2LCAiRGF0ZSI6ICIxMi85LzIwMTkiLCAiUHJvZHVjdE5vIjogMjIxMTIsICJQcm9kdWN0TmFtZSI6ICJDaG9jb2xhdGUgSG90IFdhdGVyIEJvdHRsZSIsICJQcmljZSI6IDE1LjMyLCA= (truncated)</td><td>Transactions</td><td>1</td><td>29</td><td>2023-11-16T15:58:28.181+0000</td><td>0</td></tr><tr><td>NTgxNDc2</td><td>eyJUcmFuc2FjdGlvbk5vIjogNTgxNDc2LCAiRGF0ZSI6ICIxMi85LzIwMTkiLCAiUHJvZHVjdE5vIjogMjE5MDgsICJQcm9kdWN0TmFtZSI6ICJDaG9jb2xhdGUgVGhpcyBXYXkgTWV0YWwgU2lnbiIsICJQcmljZSI6IDEyLjQ= (truncated)</td><td>Transactions</td><td>1</td><td>30</td><td>2023-11-16T15:58:28.181+0000</td><td>0</td></tr><tr><td>NTgxNDc2</td><td>eyJUcmFuc2FjdGlvbk5vIjogNTgxNDc2LCAiRGF0ZSI6ICIxMi85LzIwMTkiLCAiUHJvZHVjdE5vIjogMjE4NzQsICJQcm9kdWN0TmFtZSI6ICJHaW4gQW5kIFRvbmljIE11ZyIsICJQcmljZSI6IDExLjc0LCAiUXVhbnRpdHk= (truncated)</td><td>Transactions</td><td>1</td><td>31</td><td>2023-11-16T15:58:28.181+0000</td><td>0</td></tr><tr><td>NTgxNDc2</td><td>eyJUcmFuc2FjdGlvbk5vIjogNTgxNDc2LCAiRGF0ZSI6ICIxMi85LzIwMTkiLCAiUHJvZHVjdE5vIjogMjE4NzIsICJQcm9kdWN0TmFtZSI6ICJHbGFtb3JvdXMgTXVnIiwgIlByaWNlIjogMTEuNTMsICJRdWFudGl0eSI6IDE= (truncated)</td><td>Transactions</td><td>1</td><td>32</td><td>2023-11-16T15:58:28.181+0000</td><td>0</td></tr></tbody></table></div>"
      ]
     },
     "metadata": {
      "application/vnd.databricks.v1+output": {
       "addedWidgets": {},
       "aggData": [],
       "aggError": "",
       "aggOverflow": false,
       "aggSchema": [],
       "aggSeriesLimitReached": false,
       "aggType": "",
       "arguments": {},
       "columnCustomDisplayInfos": {},
       "data": [
        [
         "NTgxNDgy",
         "eyJUcmFuc2FjdGlvbk5vIjogNTgxNDgyLCAiRGF0ZSI6ICIxMi85LzIwMTkiLCAiUHJvZHVjdE5vIjogMjI0ODUsICJQcm9kdWN0TmFtZSI6ICJTZXQgT2YgMiBXb29kZW4gTWFya2V0IENyYXRlcyIsICJQcmljZSI6IDIxLjQ= (truncated)",
         "Transactions",
         5,
         0,
         "2023-11-16T15:58:28.180+0000",
         0
        ],
        [
         "NTgxNDc1",
         "eyJUcmFuc2FjdGlvbk5vIjogNTgxNDc1LCAiRGF0ZSI6ICIxMi85LzIwMTkiLCAiUHJvZHVjdE5vIjogMjI1OTYsICJQcm9kdWN0TmFtZSI6ICJDaHJpc3RtYXMgU3RhciBXaXNoIExpc3QgQ2hhbGtib2FyZCIsICJQcmljZSI= (truncated)",
         "Transactions",
         5,
         1,
         "2023-11-16T15:58:28.180+0000",
         0
        ],
        [
         "NTgxNDc1",
         "eyJUcmFuc2FjdGlvbk5vIjogNTgxNDc1LCAiRGF0ZSI6ICIxMi85LzIwMTkiLCAiUHJvZHVjdE5vIjogMjMyMzUsICJQcm9kdWN0TmFtZSI6ICJTdG9yYWdlIFRpbiBWaW50YWdlIExlYWYiLCAiUHJpY2UiOiAxMS41MywgIlE= (truncated)",
         "Transactions",
         5,
         2,
         "2023-11-16T15:58:28.180+0000",
         0
        ],
        [
         "NTgxNDc1",
         "eyJUcmFuc2FjdGlvbk5vIjogNTgxNDc1LCAiRGF0ZSI6ICIxMi85LzIwMTkiLCAiUHJvZHVjdE5vIjogMjMyNzIsICJQcm9kdWN0TmFtZSI6ICJUcmVlIFQtTGlnaHQgSG9sZGVyIFdpbGxpZSBXaW5raWUiLCAiUHJpY2UiOiA= (truncated)",
         "Transactions",
         5,
         3,
         "2023-11-16T15:58:28.180+0000",
         0
        ],
        [
         "NTgxNDc1",
         "eyJUcmFuc2FjdGlvbk5vIjogNTgxNDc1LCAiRGF0ZSI6ICIxMi85LzIwMTkiLCAiUHJvZHVjdE5vIjogMjMyMzksICJQcm9kdWN0TmFtZSI6ICJTZXQgT2YgNCBLbmljayBLbmFjayBUaW5zIFBvcHBpZXMiLCAiUHJpY2UiOiA= (truncated)",
         "Transactions",
         5,
         4,
         "2023-11-16T15:58:28.180+0000",
         0
        ],
        [
         "NTgxNDc1",
         "eyJUcmFuc2FjdGlvbk5vIjogNTgxNDc1LCAiRGF0ZSI6ICIxMi85LzIwMTkiLCAiUHJvZHVjdE5vIjogMjE3MDUsICJQcm9kdWN0TmFtZSI6ICJCYWcgNTAwZyBTd2lybHkgTWFyYmxlcyIsICJQcmljZSI6IDEwLjY1LCAiUXU= (truncated)",
         "Transactions",
         5,
         5,
         "2023-11-16T15:58:28.180+0000",
         0
        ],
        [
         "NTgxNDc1",
         "eyJUcmFuc2FjdGlvbk5vIjogNTgxNDc1LCAiRGF0ZSI6ICIxMi85LzIwMTkiLCAiUHJvZHVjdE5vIjogMjIxMTgsICJQcm9kdWN0TmFtZSI6ICJKb3kgV29vZGVuIEJsb2NrIExldHRlcnMiLCAiUHJpY2UiOiAxMS41MywgIlE= (truncated)",
         "Transactions",
         5,
         6,
         "2023-11-16T15:58:28.180+0000",
         0
        ],
        [
         "NTgxNDc1",
         "eyJUcmFuc2FjdGlvbk5vIjogNTgxNDc1LCAiRGF0ZSI6ICIxMi85LzIwMTkiLCAiUHJvZHVjdE5vIjogMjIxMTksICJQcm9kdWN0TmFtZSI6ICJQZWFjZSBXb29kZW4gQmxvY2sgTGV0dGVycyIsICJQcmljZSI6IDEyLjI1LCA= (truncated)",
         "Transactions",
         5,
         7,
         "2023-11-16T15:58:28.180+0000",
         0
        ],
        [
         "NTgxNDc1",
         "eyJUcmFuc2FjdGlvbk5vIjogNTgxNDc1LCAiRGF0ZSI6ICIxMi85LzIwMTkiLCAiUHJvZHVjdE5vIjogMjIyMTcsICJQcm9kdWN0TmFtZSI6ICJULUxpZ2h0IEhvbGRlciBIYW5naW5nIExhY2UiLCAiUHJpY2UiOiAxMC42NSw= (truncated)",
         "Transactions",
         5,
         8,
         "2023-11-16T15:58:28.180+0000",
         0
        ],
        [
         "NTgxNDc1",
         "eyJUcmFuc2FjdGlvbk5vIjogNTgxNDc1LCAiRGF0ZSI6ICIxMi85LzIwMTkiLCAiUHJvZHVjdE5vIjogMjIyMTYsICJQcm9kdWN0TmFtZSI6ICJULUxpZ2h0IEhvbGRlciBXaGl0ZSBMYWNlIiwgIlByaWNlIjogMTAuNTUsICI= (truncated)",
         "Transactions",
         5,
         9,
         "2023-11-16T15:58:28.180+0000",
         0
        ],
        [
         "NTgxNDc1",
         "eyJUcmFuc2FjdGlvbk5vIjogNTgxNDc1LCAiRGF0ZSI6ICIxMi85LzIwMTkiLCAiUHJvZHVjdE5vIjogMjIzODAsICJQcm9kdWN0TmFtZSI6ICJUb3kgVGlkeSBTcGFjZWJveSIsICJQcmljZSI6IDExLjA2LCAiUXVhbnRpdHk= (truncated)",
         "Transactions",
         5,
         10,
         "2023-11-16T15:58:28.180+0000",
         0
        ],
        [
         "NTgxNDc1",
         "eyJUcmFuc2FjdGlvbk5vIjogNTgxNDc1LCAiRGF0ZSI6ICIxMi85LzIwMTkiLCAiUHJvZHVjdE5vIjogMjI0NDIsICJQcm9kdWN0TmFtZSI6ICJHcm93IFlvdXIgT3duIEZsb3dlcnMgU2V0IE9mIDMiLCAiUHJpY2UiOiAxMi4= (truncated)",
         "Transactions",
         5,
         11,
         "2023-11-16T15:58:28.180+0000",
         0
        ],
        [
         "NTgxNDc1",
         "eyJUcmFuc2FjdGlvbk5vIjogNTgxNDc1LCAiRGF0ZSI6ICIxMi85LzIwMTkiLCAiUHJvZHVjdE5vIjogMjI2NjQsICJQcm9kdWN0TmFtZSI6ICJUb3kgVGlkeSBEb2xseSBHaXJsIERlc2lnbiIsICJQcmljZSI6IDExLjA2LCA= (truncated)",
         "Transactions",
         5,
         12,
         "2023-11-16T15:58:28.180+0000",
         0
        ],
        [
         "NTgxNDc1",
         "eyJUcmFuc2FjdGlvbk5vIjogNTgxNDc1LCAiRGF0ZSI6ICIxMi85LzIwMTkiLCAiUHJvZHVjdE5vIjogMjI3MjEsICJQcm9kdWN0TmFtZSI6ICJTZXQgT2YgMyBDYWtlIFRpbnMgU2tldGNoYm9vayIsICJQcmljZSI6IDEyLjI= (truncated)",
         "Transactions",
         5,
         13,
         "2023-11-16T15:58:28.180+0000",
         0
        ],
        [
         "NTgxNDc1",
         "eyJUcmFuc2FjdGlvbk5vIjogNTgxNDc1LCAiRGF0ZSI6ICIxMi85LzIwMTkiLCAiUHJvZHVjdE5vIjogMjI3MjMsICJQcm9kdWN0TmFtZSI6ICJTZXQgT2YgNiBIZXJiIFRpbnMgU2tldGNoYm9vayIsICJQcmljZSI6IDExLjU= (truncated)",
         "Transactions",
         5,
         14,
         "2023-11-16T15:58:28.180+0000",
         0
        ],
        [
         "NTgxNDc1",
         "eyJUcmFuc2FjdGlvbk5vIjogNTgxNDc1LCAiRGF0ZSI6ICIxMi85LzIwMTkiLCAiUHJvZHVjdE5vIjogMjI3ODUsICJQcm9kdWN0TmFtZSI6ICJTcXVhcmVjdXNoaW9uIENvdmVyIFBpbmsgVW5pb24gSmFjayIsICJQcmljZSI= (truncated)",
         "Transactions",
         5,
         15,
         "2023-11-16T15:58:28.180+0000",
         0
        ],
        [
         "NTgxNDc1",
         "eyJUcmFuc2FjdGlvbk5vIjogNTgxNDc1LCAiRGF0ZSI6ICIxMi85LzIwMTkiLCAiUHJvZHVjdE5vIjogMjI5NTUsICJQcm9kdWN0TmFtZSI6ICIzNiBGb2lsIFN0YXIgQ2FrZSBDYXNlcyIsICJQcmljZSI6IDExLjA2LCAiUXU= (truncated)",
         "Transactions",
         5,
         16,
         "2023-11-16T15:58:28.180+0000",
         0
        ],
        [
         "NTgxNDc1",
         "eyJUcmFuc2FjdGlvbk5vIjogNTgxNDc1LCAiRGF0ZSI6ICIxMi85LzIwMTkiLCAiUHJvZHVjdE5vIjogMjMxNDEsICJQcm9kdWN0TmFtZSI6ICJUcmlwbGUgV2lyZSBIb29rIFBpbmsgSGVhcnQiLCAiUHJpY2UiOiAxMS4wNiw= (truncated)",
         "Transactions",
         5,
         17,
         "2023-11-16T15:58:28.180+0000",
         0
        ],
        [
         "NTgxNDc1",
         "eyJUcmFuc2FjdGlvbk5vIjogNTgxNDc1LCAiRGF0ZSI6ICIxMi85LzIwMTkiLCAiUHJvZHVjdE5vIjogMjI5NTYsICJQcm9kdWN0TmFtZSI6ICIzNiBGb2lsIEhlYXJ0IENha2UgQ2FzZXMiLCAiUHJpY2UiOiAxMS4wNiwgIlE= (truncated)",
         "Transactions",
         5,
         18,
         "2023-11-16T15:58:28.180+0000",
         0
        ],
        [
         "NTgxNDc1",
         "eyJUcmFuc2FjdGlvbk5vIjogNTgxNDc1LCAiRGF0ZSI6ICIxMi85LzIwMTkiLCAiUHJvZHVjdE5vIjogMjI1ODEsICJQcm9kdWN0TmFtZSI6ICJXb29kIFN0b2NraW5nIENocmlzdG1hcyBTY2FuZGlzcG90IiwgIlByaWNlIjo= (truncated)",
         "Transactions",
         5,
         19,
         "2023-11-16T15:58:28.181+0000",
         0
        ],
        [
         "NTgxNDc2",
         "eyJUcmFuc2FjdGlvbk5vIjogNTgxNDc2LCAiRGF0ZSI6ICIxMi85LzIwMTkiLCAiUHJvZHVjdE5vIjogMjMxOTgsICJQcm9kdWN0TmFtZSI6ICJQYW50cnkgTWFnbmV0aWMgU2hvcHBpbmcgTGlzdCIsICJQcmljZSI6IDExLjU= (truncated)",
         "Transactions",
         1,
         0,
         "2023-11-16T15:58:28.180+0000",
         0
        ],
        [
         "NTgxNDc2",
         "eyJUcmFuc2FjdGlvbk5vIjogNTgxNDc2LCAiRGF0ZSI6ICIxMi85LzIwMTkiLCAiUHJvZHVjdE5vIjogMjMxOTcsICJQcm9kdWN0TmFtZSI6ICJTa2V0Y2hib29rIE1hZ25ldGljIFNob3BwaW5nIExpc3QiLCAiUHJpY2UiOiA= (truncated)",
         "Transactions",
         1,
         1,
         "2023-11-16T15:58:28.181+0000",
         0
        ],
        [
         "NTgxNDc2",
         "eyJUcmFuc2FjdGlvbk5vIjogNTgxNDc2LCAiRGF0ZSI6ICIxMi85LzIwMTkiLCAiUHJvZHVjdE5vIjogMjMxOTgsICJQcm9kdWN0TmFtZSI6ICJQYW50cnkgTWFnbmV0aWMgU2hvcHBpbmcgTGlzdCIsICJQcmljZSI6IDExLjU= (truncated)",
         "Transactions",
         1,
         2,
         "2023-11-16T15:58:28.181+0000",
         0
        ],
        [
         "NTgxNDc2",
         "eyJUcmFuc2FjdGlvbk5vIjogNTgxNDc2LCAiRGF0ZSI6ICIxMi85LzIwMTkiLCAiUHJvZHVjdE5vIjogMjMxOTcsICJQcm9kdWN0TmFtZSI6ICJTa2V0Y2hib29rIE1hZ25ldGljIFNob3BwaW5nIExpc3QiLCAiUHJpY2UiOiA= (truncated)",
         "Transactions",
         1,
         3,
         "2023-11-16T15:58:28.181+0000",
         0
        ],
        [
         "NTgxNDc2",
         "eyJUcmFuc2FjdGlvbk5vIjogNTgxNDc2LCAiRGF0ZSI6ICIxMi85LzIwMTkiLCAiUHJvZHVjdE5vIjogMjMxODQsICJQcm9kdWN0TmFtZSI6ICJCdWxsIERvZyBCb3R0bGUgT3BlbmVyIiwgIlByaWNlIjogMTUuMzIsICJRdWE= (truncated)",
         "Transactions",
         1,
         4,
         "2023-11-16T15:58:28.181+0000",
         0
        ],
        [
         "NTgxNDc2",
         "eyJUcmFuc2FjdGlvbk5vIjogNTgxNDc2LCAiRGF0ZSI6ICIxMi85LzIwMTkiLCAiUHJvZHVjdE5vIjogMjMxNjgsICJQcm9kdWN0TmFtZSI6ICJDbGFzc2ljIENhZmUgU3VnYXIgRGlzcGVuc2VyIiwgIlByaWNlIjogMTEuNTM= (truncated)",
         "Transactions",
         1,
         5,
         "2023-11-16T15:58:28.181+0000",
         0
        ],
        [
         "NTgxNDc2",
         "eyJUcmFuc2FjdGlvbk5vIjogNTgxNDc2LCAiRGF0ZSI6ICIxMi85LzIwMTkiLCAiUHJvZHVjdE5vIjogMjMxNjcsICJQcm9kdWN0TmFtZSI6ICJTbWFsbCBDZXJhbWljIFRvcCBTdG9yYWdlIEphciIsICJQcmljZSI6IDEwLjk= (truncated)",
         "Transactions",
         1,
         6,
         "2023-11-16T15:58:28.181+0000",
         0
        ],
        [
         "NTgxNDc2",
         "eyJUcmFuc2FjdGlvbk5vIjogNTgxNDc2LCAiRGF0ZSI6ICIxMi85LzIwMTkiLCAiUHJvZHVjdE5vIjogMjMxNjYsICJQcm9kdWN0TmFtZSI6ICJNZWRpdW0gQ2VyYW1pYyBUb3AgU3RvcmFnZSBKYXIiLCAiUHJpY2UiOiAxMS4= (truncated)",
         "Transactions",
         1,
         7,
         "2023-11-16T15:58:28.181+0000",
         0
        ],
        [
         "NTgxNDc2",
         "eyJUcmFuc2FjdGlvbk5vIjogNTgxNDc2LCAiRGF0ZSI6ICIxMi85LzIwMTkiLCAiUHJvZHVjdE5vIjogMjMxNjUsICJQcm9kdWN0TmFtZSI6ICJMYXJnZSBDZXJhbWljIFRvcCBTdG9yYWdlIEphciIsICJQcmljZSI6IDExLjc= (truncated)",
         "Transactions",
         1,
         8,
         "2023-11-16T15:58:28.181+0000",
         0
        ],
        [
         "NTgxNDc2",
         "eyJUcmFuc2FjdGlvbk5vIjogNTgxNDc2LCAiRGF0ZSI6ICIxMi85LzIwMTkiLCAiUHJvZHVjdE5vIjogMjMwMDQsICJQcm9kdWN0TmFtZSI6ICJUcmF2ZWwgQ2FyZCBXYWxsZXQgUGFudHJ5IiwgIlByaWNlIjogMTAuNjgsICI= (truncated)",
         "Transactions",
         1,
         9,
         "2023-11-16T15:58:28.181+0000",
         0
        ],
        [
         "NTgxNDc2",
         "eyJUcmFuc2FjdGlvbk5vIjogNTgxNDc2LCAiRGF0ZSI6ICIxMi85LzIwMTkiLCAiUHJvZHVjdE5vIjogMjMwMDIsICJQcm9kdWN0TmFtZSI6ICJUcmF2ZWwgQ2FyZCBXYWxsZXQgU2t1bGxzIiwgIlByaWNlIjogMTAuNjgsICI= (truncated)",
         "Transactions",
         1,
         10,
         "2023-11-16T15:58:28.181+0000",
         0
        ],
        [
         "NTgxNDc2",
         "eyJUcmFuc2FjdGlvbk5vIjogNTgxNDc2LCAiRGF0ZSI6ICIxMi85LzIwMTkiLCAiUHJvZHVjdE5vIjogMjMwMDAsICJQcm9kdWN0TmFtZSI6ICJUcmF2ZWwgQ2FyZCBXYWxsZXQgVHJhbnNwb3J0IiwgIlByaWNlIjogMTAuNjg= (truncated)",
         "Transactions",
         1,
         11,
         "2023-11-16T15:58:28.181+0000",
         0
        ],
        [
         "NTgxNDc2",
         "eyJUcmFuc2FjdGlvbk5vIjogNTgxNDc2LCAiRGF0ZSI6ICIxMi85LzIwMTkiLCAiUHJvZHVjdE5vIjogMjI5OTgsICJQcm9kdWN0TmFtZSI6ICJUcmF2ZWwgQ2FyZCBXYWxsZXQgS2VlcCBDYWxtIiwgIlByaWNlIjogMTAuNjg= (truncated)",
         "Transactions",
         1,
         12,
         "2023-11-16T15:58:28.181+0000",
         0
        ],
        [
         "NTgxNDc2",
         "eyJUcmFuc2FjdGlvbk5vIjogNTgxNDc2LCAiRGF0ZSI6ICIxMi85LzIwMTkiLCAiUHJvZHVjdE5vIjogMjI5OTQsICJQcm9kdWN0TmFtZSI6ICJUcmF2ZWwgQ2FyZCBXYWxsZXQgUmV0cm9zcG90IiwgIlByaWNlIjogMTAuNjg= (truncated)",
         "Transactions",
         1,
         13,
         "2023-11-16T15:58:28.181+0000",
         0
        ],
        [
         "NTgxNDc2",
         "eyJUcmFuc2FjdGlvbk5vIjogNTgxNDc2LCAiRGF0ZSI6ICIxMi85LzIwMTkiLCAiUHJvZHVjdE5vIjogMjI4MzUsICJQcm9kdWN0TmFtZSI6ICJIb3QgV2F0ZXIgQm90dGxlIEkgQW0gU28gUG9vcmx5IiwgIlByaWNlIjogMTU= (truncated)",
         "Transactions",
         1,
         14,
         "2023-11-16T15:58:28.181+0000",
         0
        ],
        [
         "NTgxNDc2",
         "eyJUcmFuc2FjdGlvbk5vIjogNTgxNDc2LCAiRGF0ZSI6ICIxMi85LzIwMTkiLCAiUHJvZHVjdE5vIjogMjI3MzAsICJQcm9kdWN0TmFtZSI6ICJBbGFybSBDbG9jayBCYWtlbGlrZSBJdm9yeSIsICJQcmljZSI6IDE0LjA5LCA= (truncated)",
         "Transactions",
         1,
         15,
         "2023-11-16T15:58:28.181+0000",
         0
        ],
        [
         "NTgxNDc2",
         "eyJUcmFuc2FjdGlvbk5vIjogNTgxNDc2LCAiRGF0ZSI6ICIxMi85LzIwMTkiLCAiUHJvZHVjdE5vIjogMjI3MjgsICJQcm9kdWN0TmFtZSI6ICJBbGFybSBDbG9jayBCYWtlbGlrZSBQaW5rIiwgIlByaWNlIjogMTQuMDksICI= (truncated)",
         "Transactions",
         1,
         16,
         "2023-11-16T15:58:28.181+0000",
         0
        ],
        [
         "NTgxNDc2",
         "eyJUcmFuc2FjdGlvbk5vIjogNTgxNDc2LCAiRGF0ZSI6ICIxMi85LzIwMTkiLCAiUHJvZHVjdE5vIjogMjI3MjcsICJQcm9kdWN0TmFtZSI6ICJBbGFybSBDbG9jayBCYWtlbGlrZSBSZWQiLCAiUHJpY2UiOiAxNC4wOSwgIlE= (truncated)",
         "Transactions",
         1,
         17,
         "2023-11-16T15:58:28.181+0000",
         0
        ],
        [
         "NTgxNDc2",
         "eyJUcmFuc2FjdGlvbk5vIjogNTgxNDc2LCAiRGF0ZSI6ICIxMi85LzIwMTkiLCAiUHJvZHVjdE5vIjogMjI3MjYsICJQcm9kdWN0TmFtZSI6ICJBbGFybSBDbG9jayBCYWtlbGlrZSBHcmVlbiIsICJQcmljZSI6IDE0LjA5LCA= (truncated)",
         "Transactions",
         1,
         18,
         "2023-11-16T15:58:28.181+0000",
         0
        ],
        [
         "NTgxNDc2",
         "eyJUcmFuc2FjdGlvbk5vIjogNTgxNDc2LCAiRGF0ZSI6ICIxMi85LzIwMTkiLCAiUHJvZHVjdE5vIjogMjI3MjAsICJQcm9kdWN0TmFtZSI6ICJTZXQgT2YgMyBDYWtlIFRpbnMgUGFudHJ5IERlc2lnbiIsICJQcmljZSI6IDE= (truncated)",
         "Transactions",
         1,
         19,
         "2023-11-16T15:58:28.181+0000",
         0
        ],
        [
         "NTgxNDc2",
         "eyJUcmFuc2FjdGlvbk5vIjogNTgxNDc2LCAiRGF0ZSI6ICIxMi85LzIwMTkiLCAiUHJvZHVjdE5vIjogMjI2OTMsICJQcm9kdWN0TmFtZSI6ICJHcm93IEEgRmx5dHJhcCBPciBTdW5mbG93ZXIgSW4gVGluIiwgIlByaWNlIjo= (truncated)",
         "Transactions",
         1,
         20,
         "2023-11-16T15:58:28.181+0000",
         0
        ],
        [
         "NTgxNDc2",
         "eyJUcmFuc2FjdGlvbk5vIjogNTgxNDc2LCAiRGF0ZSI6ICIxMi85LzIwMTkiLCAiUHJvZHVjdE5vIjogMjI2NzAsICJQcm9kdWN0TmFtZSI6ICJGcmVuY2ggV2MgU2lnbiBCbHVlIE1ldGFsIiwgIlByaWNlIjogMTEuNTMsICI= (truncated)",
         "Transactions",
         1,
         21,
         "2023-11-16T15:58:28.181+0000",
         0
        ],
        [
         "NTgxNDc2",
         "eyJUcmFuc2FjdGlvbk5vIjogNTgxNDc2LCAiRGF0ZSI6ICIxMi85LzIwMTkiLCAiUHJvZHVjdE5vIjogMjI2NjcsICJQcm9kdWN0TmFtZSI6ICJSZWNpcGUgQm94IFJldHJvc3BvdCIsICJQcmljZSI6IDEyLjg2LCAiUXVhbnQ= (truncated)",
         "Transactions",
         1,
         22,
         "2023-11-16T15:58:28.181+0000",
         0
        ],
        [
         "NTgxNDc2",
         "eyJUcmFuc2FjdGlvbk5vIjogNTgxNDc2LCAiRGF0ZSI6ICIxMi85LzIwMTkiLCAiUHJvZHVjdE5vIjogMjI2NjYsICJQcm9kdWN0TmFtZSI6ICJSZWNpcGUgQm94IFBhbnRyeSBZZWxsb3cgRGVzaWduIiwgIlByaWNlIjogMTI= (truncated)",
         "Transactions",
         1,
         23,
         "2023-11-16T15:58:28.181+0000",
         0
        ],
        [
         "NTgxNDc2",
         "eyJUcmFuc2FjdGlvbk5vIjogNTgxNDc2LCAiRGF0ZSI6ICIxMi85LzIwMTkiLCAiUHJvZHVjdE5vIjogMjI2MzEsICJQcm9kdWN0TmFtZSI6ICJDaXJjdXMgUGFyYWRlIEx1bmNoIEJveCIsICJQcmljZSI6IDEyLjI1LCAiUXU= (truncated)",
         "Transactions",
         1,
         24,
         "2023-11-16T15:58:28.181+0000",
         0
        ],
        [
         "NTgxNDc2",
         "eyJUcmFuc2FjdGlvbk5vIjogNTgxNDc2LCAiRGF0ZSI6ICIxMi85LzIwMTkiLCAiUHJvZHVjdE5vIjogMjI2MjgsICJQcm9kdWN0TmFtZSI6ICJQaWNuaWMgQm94ZXMgU2V0IE9mIDMgUmV0cm9zcG90IiwgIlByaWNlIjogMTU= (truncated)",
         "Transactions",
         1,
         25,
         "2023-11-16T15:58:28.181+0000",
         0
        ],
        [
         "NTgxNDc2",
         "eyJUcmFuc2FjdGlvbk5vIjogNTgxNDc2LCAiRGF0ZSI6ICIxMi85LzIwMTkiLCAiUHJvZHVjdE5vIjogMjI0NjcsICJQcm9kdWN0TmFtZSI6ICJHdW1iYWxsIENvYXQgUmFjayIsICJQcmljZSI6IDEyLjg2LCAiUXVhbnRpdHk= (truncated)",
         "Transactions",
         1,
         26,
         "2023-11-16T15:58:28.181+0000",
         0
        ],
        [
         "NTgxNDc2",
         "eyJUcmFuc2FjdGlvbk5vIjogNTgxNDc2LCAiRGF0ZSI6ICIxMi85LzIwMTkiLCAiUHJvZHVjdE5vIjogMjIxOTcsICJQcm9kdWN0TmFtZSI6ICJQb3Bjb3JuIEhvbGRlciIsICJQcmljZSI6IDEwLjk5LCAiUXVhbnRpdHkiOiA= (truncated)",
         "Transactions",
         1,
         27,
         "2023-11-16T15:58:28.181+0000",
         0
        ],
        [
         "NTgxNDc2",
         "eyJUcmFuc2FjdGlvbk5vIjogNTgxNDc2LCAiRGF0ZSI6ICIxMi85LzIwMTkiLCAiUHJvZHVjdE5vIjogMjIxMTQsICJQcm9kdWN0TmFtZSI6ICJIb3QgV2F0ZXIgQm90dGxlIFRlYSBBbmQgU3ltcGF0aHkiLCAiUHJpY2UiOiA= (truncated)",
         "Transactions",
         1,
         28,
         "2023-11-16T15:58:28.181+0000",
         0
        ],
        [
         "NTgxNDc2",
         "eyJUcmFuc2FjdGlvbk5vIjogNTgxNDc2LCAiRGF0ZSI6ICIxMi85LzIwMTkiLCAiUHJvZHVjdE5vIjogMjIxMTIsICJQcm9kdWN0TmFtZSI6ICJDaG9jb2xhdGUgSG90IFdhdGVyIEJvdHRsZSIsICJQcmljZSI6IDE1LjMyLCA= (truncated)",
         "Transactions",
         1,
         29,
         "2023-11-16T15:58:28.181+0000",
         0
        ],
        [
         "NTgxNDc2",
         "eyJUcmFuc2FjdGlvbk5vIjogNTgxNDc2LCAiRGF0ZSI6ICIxMi85LzIwMTkiLCAiUHJvZHVjdE5vIjogMjE5MDgsICJQcm9kdWN0TmFtZSI6ICJDaG9jb2xhdGUgVGhpcyBXYXkgTWV0YWwgU2lnbiIsICJQcmljZSI6IDEyLjQ= (truncated)",
         "Transactions",
         1,
         30,
         "2023-11-16T15:58:28.181+0000",
         0
        ],
        [
         "NTgxNDc2",
         "eyJUcmFuc2FjdGlvbk5vIjogNTgxNDc2LCAiRGF0ZSI6ICIxMi85LzIwMTkiLCAiUHJvZHVjdE5vIjogMjE4NzQsICJQcm9kdWN0TmFtZSI6ICJHaW4gQW5kIFRvbmljIE11ZyIsICJQcmljZSI6IDExLjc0LCAiUXVhbnRpdHk= (truncated)",
         "Transactions",
         1,
         31,
         "2023-11-16T15:58:28.181+0000",
         0
        ],
        [
         "NTgxNDc2",
         "eyJUcmFuc2FjdGlvbk5vIjogNTgxNDc2LCAiRGF0ZSI6ICIxMi85LzIwMTkiLCAiUHJvZHVjdE5vIjogMjE4NzIsICJQcm9kdWN0TmFtZSI6ICJHbGFtb3JvdXMgTXVnIiwgIlByaWNlIjogMTEuNTMsICJRdWFudGl0eSI6IDE= (truncated)",
         "Transactions",
         1,
         32,
         "2023-11-16T15:58:28.181+0000",
         0
        ]
       ],
       "datasetInfos": [],
       "dbfsResultPath": null,
       "isJsonSchema": true,
       "metadata": {},
       "overflow": false,
       "plotOptions": {
        "customPlotOptions": {},
        "displayType": "table",
        "pivotAggregation": null,
        "pivotColumns": null,
        "xColumns": null,
        "yColumns": null
       },
       "removedWidgets": [],
       "schema": [
        {
         "metadata": "{}",
         "name": "key",
         "type": "\"binary\""
        },
        {
         "metadata": "{}",
         "name": "value",
         "type": "\"binary\""
        },
        {
         "metadata": "{}",
         "name": "topic",
         "type": "\"string\""
        },
        {
         "metadata": "{}",
         "name": "partition",
         "type": "\"integer\""
        },
        {
         "metadata": "{}",
         "name": "offset",
         "type": "\"long\""
        },
        {
         "metadata": "{}",
         "name": "timestamp",
         "type": "\"timestamp\""
        },
        {
         "metadata": "{}",
         "name": "timestampType",
         "type": "\"integer\""
        }
       ],
       "type": "table"
      }
     },
     "output_type": "display_data"
    }
   ],
   "source": [
    "# Consume Data from Kafka\n",
    "import pyspark.sql.functions as F\n",
    "df = spark \\\n",
    "    .readStream \\\n",
    "    .format(\"kafka\") \\\n",
    "    .option(\"kafka.bootstrap.servers\", \"pkc-w8nyg.me-central1.gcp.confluent.cloud:9092\") \\\n",
    "      .option(\"subscribe\", \"Transactions\") \\\n",
    "      .option(\"startingOffsets\", \"earliest\") \\\n",
    "      .option(\"kafka.security.protocol\",\"SASL_SSL\") \\\n",
    "      .option(\"kafka.sasl.mechanism\", \"PLAIN\") \\\n",
    "      .option(\"kafka.sasl.jaas.config\", \"\"\"kafkashaded.org.apache.kafka.common.security.plain.PlainLoginModule required username=\"7PVG3JMXVJM7G6BE\" password=\"\";\"\"\") \\\n",
    "    .load()\n",
    "    \n",
    "display(df)"
   ]
  },
  {
   "cell_type": "code",
   "execution_count": 0,
   "metadata": {
    "application/vnd.databricks.v1+cell": {
     "cellMetadata": {
      "byteLimit": 2048000,
      "rowLimit": 10000
     },
     "inputWidgets": {},
     "nuid": "b0a6dff0-90d6-4036-a677-1bd8c90844ef",
     "showTitle": true,
     "title": "Defining Schema"
    }
   },
   "outputs": [
    {
     "output_type": "display_data",
     "data": {
      "text/html": [
       "<style scoped>\n",
       "  .table-result-container {\n",
       "    max-height: 300px;\n",
       "    overflow: auto;\n",
       "  }\n",
       "  table, th, td {\n",
       "    border: 1px solid black;\n",
       "    border-collapse: collapse;\n",
       "  }\n",
       "  th, td {\n",
       "    padding: 5px;\n",
       "  }\n",
       "  th {\n",
       "    text-align: left;\n",
       "  }\n",
       "</style><div class='table-result-container'><table class='table-result'><thead style='background-color: white'><tr><th>TransactionNo</th><th>Date</th><th>ProductNo</th><th>ProductName</th><th>Price</th><th>Quantity</th><th>CustomerNo</th><th>Country</th></tr></thead><tbody><tr><td>581482</td><td>12/9/2019</td><td>22485</td><td>Set Of 2 Wooden Market Crates</td><td>21.47</td><td>12</td><td>17490</td><td>United Kingdom</td></tr><tr><td>581475</td><td>12/9/2019</td><td>22596</td><td>Christmas Star Wish List Chalkboard</td><td>10.65</td><td>36</td><td>13069</td><td>United Kingdom</td></tr><tr><td>581475</td><td>12/9/2019</td><td>23235</td><td>Storage Tin Vintage Leaf</td><td>11.53</td><td>12</td><td>13069</td><td>United Kingdom</td></tr><tr><td>581475</td><td>12/9/2019</td><td>23272</td><td>Tree T-Light Holder Willie Winkie</td><td>10.65</td><td>12</td><td>13069</td><td>United Kingdom</td></tr><tr><td>581475</td><td>12/9/2019</td><td>23239</td><td>Set Of 4 Knick Knack Tins Poppies</td><td>11.94</td><td>6</td><td>13069</td><td>United Kingdom</td></tr><tr><td>581475</td><td>12/9/2019</td><td>21705</td><td>Bag 500g Swirly Marbles</td><td>10.65</td><td>24</td><td>13069</td><td>United Kingdom</td></tr><tr><td>581475</td><td>12/9/2019</td><td>22118</td><td>Joy Wooden Block Letters</td><td>11.53</td><td>18</td><td>13069</td><td>United Kingdom</td></tr><tr><td>581475</td><td>12/9/2019</td><td>22119</td><td>Peace Wooden Block Letters</td><td>12.25</td><td>12</td><td>13069</td><td>United Kingdom</td></tr><tr><td>581475</td><td>12/9/2019</td><td>22217</td><td>T-Light Holder Hanging Lace</td><td>10.65</td><td>12</td><td>13069</td><td>United Kingdom</td></tr><tr><td>581475</td><td>12/9/2019</td><td>22216</td><td>T-Light Holder White Lace</td><td>10.55</td><td>24</td><td>13069</td><td>United Kingdom</td></tr><tr><td>581475</td><td>12/9/2019</td><td>22380</td><td>Toy Tidy Spaceboy</td><td>11.06</td><td>20</td><td>13069</td><td>United Kingdom</td></tr><tr><td>581475</td><td>12/9/2019</td><td>22442</td><td>Grow Your Own Flowers Set Of 3</td><td>12.25</td><td>12</td><td>13069</td><td>United Kingdom</td></tr><tr><td>581475</td><td>12/9/2019</td><td>22664</td><td>Toy Tidy Dolly Girl Design</td><td>11.06</td><td>20</td><td>13069</td><td>United Kingdom</td></tr><tr><td>581475</td><td>12/9/2019</td><td>22721</td><td>Set Of 3 Cake Tins Sketchbook</td><td>12.25</td><td>12</td><td>13069</td><td>United Kingdom</td></tr><tr><td>581475</td><td>12/9/2019</td><td>22723</td><td>Set Of 6 Herb Tins Sketchbook</td><td>11.53</td><td>12</td><td>13069</td><td>United Kingdom</td></tr><tr><td>581475</td><td>12/9/2019</td><td>22785</td><td>Squarecushion Cover Pink Union Jack</td><td>11.53</td><td>12</td><td>13069</td><td>United Kingdom</td></tr><tr><td>581475</td><td>12/9/2019</td><td>22955</td><td>36 Foil Star Cake Cases</td><td>11.06</td><td>24</td><td>13069</td><td>United Kingdom</td></tr><tr><td>581475</td><td>12/9/2019</td><td>23141</td><td>Triple Wire Hook Pink Heart</td><td>11.06</td><td>12</td><td>13069</td><td>United Kingdom</td></tr><tr><td>581475</td><td>12/9/2019</td><td>22956</td><td>36 Foil Heart Cake Cases</td><td>11.06</td><td>24</td><td>13069</td><td>United Kingdom</td></tr><tr><td>581475</td><td>12/9/2019</td><td>22581</td><td>Wood Stocking Christmas Scandispot</td><td>10.55</td><td>48</td><td>13069</td><td>United Kingdom</td></tr><tr><td>581476</td><td>12/9/2019</td><td>23198</td><td>Pantry Magnetic Shopping List</td><td>11.53</td><td>48</td><td>12433</td><td>Norway</td></tr><tr><td>581476</td><td>12/9/2019</td><td>23197</td><td>Sketchbook Magnetic Shopping List</td><td>11.74</td><td>24</td><td>12433</td><td>Norway</td></tr><tr><td>581476</td><td>12/9/2019</td><td>23198</td><td>Pantry Magnetic Shopping List</td><td>11.53</td><td>48</td><td>12433</td><td>Norway</td></tr><tr><td>581476</td><td>12/9/2019</td><td>23197</td><td>Sketchbook Magnetic Shopping List</td><td>11.74</td><td>24</td><td>12433</td><td>Norway</td></tr><tr><td>581476</td><td>12/9/2019</td><td>23184</td><td>Bull Dog Bottle Opener</td><td>15.32</td><td>8</td><td>12433</td><td>Norway</td></tr><tr><td>581476</td><td>12/9/2019</td><td>23168</td><td>Classic Cafe Sugar Dispenser</td><td>11.53</td><td>12</td><td>12433</td><td>Norway</td></tr><tr><td>581476</td><td>12/9/2019</td><td>23167</td><td>Small Ceramic Top Storage Jar</td><td>10.96</td><td>96</td><td>12433</td><td>Norway</td></tr><tr><td>581476</td><td>12/9/2019</td><td>23166</td><td>Medium Ceramic Top Storage Jar</td><td>11.32</td><td>48</td><td>12433</td><td>Norway</td></tr><tr><td>581476</td><td>12/9/2019</td><td>23165</td><td>Large Ceramic Top Storage Jar</td><td>11.74</td><td>48</td><td>12433</td><td>Norway</td></tr><tr><td>581476</td><td>12/9/2019</td><td>23004</td><td>Travel Card Wallet Pantry</td><td>10.68</td><td>48</td><td>12433</td><td>Norway</td></tr><tr><td>581476</td><td>12/9/2019</td><td>23002</td><td>Travel Card Wallet Skulls</td><td>10.68</td><td>24</td><td>12433</td><td>Norway</td></tr><tr><td>581476</td><td>12/9/2019</td><td>23000</td><td>Travel Card Wallet Transport</td><td>10.68</td><td>24</td><td>12433</td><td>Norway</td></tr><tr><td>581476</td><td>12/9/2019</td><td>22998</td><td>Travel Card Wallet Keep Calm</td><td>10.68</td><td>72</td><td>12433</td><td>Norway</td></tr><tr><td>581476</td><td>12/9/2019</td><td>22994</td><td>Travel Card Wallet Retrospot</td><td>10.68</td><td>48</td><td>12433</td><td>Norway</td></tr><tr><td>581476</td><td>12/9/2019</td><td>22835</td><td>Hot Water Bottle I Am So Poorly</td><td>15.32</td><td>8</td><td>12433</td><td>Norway</td></tr><tr><td>581476</td><td>12/9/2019</td><td>22730</td><td>Alarm Clock Bakelike Ivory</td><td>14.09</td><td>4</td><td>12433</td><td>Norway</td></tr><tr><td>581476</td><td>12/9/2019</td><td>22728</td><td>Alarm Clock Bakelike Pink</td><td>14.09</td><td>8</td><td>12433</td><td>Norway</td></tr><tr><td>581476</td><td>12/9/2019</td><td>22727</td><td>Alarm Clock Bakelike Red</td><td>14.09</td><td>8</td><td>12433</td><td>Norway</td></tr><tr><td>581476</td><td>12/9/2019</td><td>22726</td><td>Alarm Clock Bakelike Green</td><td>14.09</td><td>4</td><td>12433</td><td>Norway</td></tr><tr><td>581476</td><td>12/9/2019</td><td>22720</td><td>Set Of 3 Cake Tins Pantry Design</td><td>14.61</td><td>16</td><td>12433</td><td>Norway</td></tr><tr><td>581476</td><td>12/9/2019</td><td>22693</td><td>Grow A Flytrap Or Sunflower In Tin</td><td>11.34</td><td>192</td><td>12433</td><td>Norway</td></tr><tr><td>581476</td><td>12/9/2019</td><td>22670</td><td>French Wc Sign Blue Metal</td><td>11.53</td><td>24</td><td>12433</td><td>Norway</td></tr><tr><td>581476</td><td>12/9/2019</td><td>22667</td><td>Recipe Box Retrospot</td><td>12.86</td><td>24</td><td>12433</td><td>Norway</td></tr><tr><td>581476</td><td>12/9/2019</td><td>22666</td><td>Recipe Box Pantry Yellow Design</td><td>12.86</td><td>24</td><td>12433</td><td>Norway</td></tr><tr><td>581476</td><td>12/9/2019</td><td>22631</td><td>Circus Parade Lunch Box</td><td>12.25</td><td>12</td><td>12433</td><td>Norway</td></tr><tr><td>581476</td><td>12/9/2019</td><td>22628</td><td>Picnic Boxes Set Of 3 Retrospot</td><td>15.32</td><td>16</td><td>12433</td><td>Norway</td></tr><tr><td>581476</td><td>12/9/2019</td><td>22467</td><td>Gumball Coat Rack</td><td>12.86</td><td>6</td><td>12433</td><td>Norway</td></tr><tr><td>581476</td><td>12/9/2019</td><td>22197</td><td>Popcorn Holder</td><td>10.99</td><td>100</td><td>12433</td><td>Norway</td></tr><tr><td>581476</td><td>12/9/2019</td><td>22114</td><td>Hot Water Bottle Tea And Sympathy</td><td>14.61</td><td>8</td><td>12433</td><td>Norway</td></tr><tr><td>581476</td><td>12/9/2019</td><td>22112</td><td>Chocolate Hot Water Bottle</td><td>15.32</td><td>9</td><td>12433</td><td>Norway</td></tr><tr><td>581476</td><td>12/9/2019</td><td>21908</td><td>Chocolate This Way Metal Sign</td><td>12.4</td><td>36</td><td>12433</td><td>Norway</td></tr><tr><td>581476</td><td>12/9/2019</td><td>21874</td><td>Gin And Tonic Mug</td><td>11.74</td><td>36</td><td>12433</td><td>Norway</td></tr><tr><td>581476</td><td>12/9/2019</td><td>21872</td><td>Glamorous Mug</td><td>11.53</td><td>12</td><td>12433</td><td>Norway</td></tr></tbody></table></div>"
      ]
     },
     "metadata": {
      "application/vnd.databricks.v1+output": {
       "addedWidgets": {},
       "aggData": [],
       "aggError": "",
       "aggOverflow": false,
       "aggSchema": [],
       "aggSeriesLimitReached": false,
       "aggType": "",
       "arguments": {},
       "columnCustomDisplayInfos": {},
       "data": [
        [
         581482,
         "12/9/2019",
         22485,
         "Set Of 2 Wooden Market Crates",
         21.47,
         12,
         17490,
         "United Kingdom"
        ],
        [
         581475,
         "12/9/2019",
         22596,
         "Christmas Star Wish List Chalkboard",
         10.65,
         36,
         13069,
         "United Kingdom"
        ],
        [
         581475,
         "12/9/2019",
         23235,
         "Storage Tin Vintage Leaf",
         11.53,
         12,
         13069,
         "United Kingdom"
        ],
        [
         581475,
         "12/9/2019",
         23272,
         "Tree T-Light Holder Willie Winkie",
         10.65,
         12,
         13069,
         "United Kingdom"
        ],
        [
         581475,
         "12/9/2019",
         23239,
         "Set Of 4 Knick Knack Tins Poppies",
         11.94,
         6,
         13069,
         "United Kingdom"
        ],
        [
         581475,
         "12/9/2019",
         21705,
         "Bag 500g Swirly Marbles",
         10.65,
         24,
         13069,
         "United Kingdom"
        ],
        [
         581475,
         "12/9/2019",
         22118,
         "Joy Wooden Block Letters",
         11.53,
         18,
         13069,
         "United Kingdom"
        ],
        [
         581475,
         "12/9/2019",
         22119,
         "Peace Wooden Block Letters",
         12.25,
         12,
         13069,
         "United Kingdom"
        ],
        [
         581475,
         "12/9/2019",
         22217,
         "T-Light Holder Hanging Lace",
         10.65,
         12,
         13069,
         "United Kingdom"
        ],
        [
         581475,
         "12/9/2019",
         22216,
         "T-Light Holder White Lace",
         10.55,
         24,
         13069,
         "United Kingdom"
        ],
        [
         581475,
         "12/9/2019",
         22380,
         "Toy Tidy Spaceboy",
         11.06,
         20,
         13069,
         "United Kingdom"
        ],
        [
         581475,
         "12/9/2019",
         22442,
         "Grow Your Own Flowers Set Of 3",
         12.25,
         12,
         13069,
         "United Kingdom"
        ],
        [
         581475,
         "12/9/2019",
         22664,
         "Toy Tidy Dolly Girl Design",
         11.06,
         20,
         13069,
         "United Kingdom"
        ],
        [
         581475,
         "12/9/2019",
         22721,
         "Set Of 3 Cake Tins Sketchbook",
         12.25,
         12,
         13069,
         "United Kingdom"
        ],
        [
         581475,
         "12/9/2019",
         22723,
         "Set Of 6 Herb Tins Sketchbook",
         11.53,
         12,
         13069,
         "United Kingdom"
        ],
        [
         581475,
         "12/9/2019",
         22785,
         "Squarecushion Cover Pink Union Jack",
         11.53,
         12,
         13069,
         "United Kingdom"
        ],
        [
         581475,
         "12/9/2019",
         22955,
         "36 Foil Star Cake Cases",
         11.06,
         24,
         13069,
         "United Kingdom"
        ],
        [
         581475,
         "12/9/2019",
         23141,
         "Triple Wire Hook Pink Heart",
         11.06,
         12,
         13069,
         "United Kingdom"
        ],
        [
         581475,
         "12/9/2019",
         22956,
         "36 Foil Heart Cake Cases",
         11.06,
         24,
         13069,
         "United Kingdom"
        ],
        [
         581475,
         "12/9/2019",
         22581,
         "Wood Stocking Christmas Scandispot",
         10.55,
         48,
         13069,
         "United Kingdom"
        ],
        [
         581476,
         "12/9/2019",
         23198,
         "Pantry Magnetic Shopping List",
         11.53,
         48,
         12433,
         "Norway"
        ],
        [
         581476,
         "12/9/2019",
         23197,
         "Sketchbook Magnetic Shopping List",
         11.74,
         24,
         12433,
         "Norway"
        ],
        [
         581476,
         "12/9/2019",
         23198,
         "Pantry Magnetic Shopping List",
         11.53,
         48,
         12433,
         "Norway"
        ],
        [
         581476,
         "12/9/2019",
         23197,
         "Sketchbook Magnetic Shopping List",
         11.74,
         24,
         12433,
         "Norway"
        ],
        [
         581476,
         "12/9/2019",
         23184,
         "Bull Dog Bottle Opener",
         15.32,
         8,
         12433,
         "Norway"
        ],
        [
         581476,
         "12/9/2019",
         23168,
         "Classic Cafe Sugar Dispenser",
         11.53,
         12,
         12433,
         "Norway"
        ],
        [
         581476,
         "12/9/2019",
         23167,
         "Small Ceramic Top Storage Jar",
         10.96,
         96,
         12433,
         "Norway"
        ],
        [
         581476,
         "12/9/2019",
         23166,
         "Medium Ceramic Top Storage Jar",
         11.32,
         48,
         12433,
         "Norway"
        ],
        [
         581476,
         "12/9/2019",
         23165,
         "Large Ceramic Top Storage Jar",
         11.74,
         48,
         12433,
         "Norway"
        ],
        [
         581476,
         "12/9/2019",
         23004,
         "Travel Card Wallet Pantry",
         10.68,
         48,
         12433,
         "Norway"
        ],
        [
         581476,
         "12/9/2019",
         23002,
         "Travel Card Wallet Skulls",
         10.68,
         24,
         12433,
         "Norway"
        ],
        [
         581476,
         "12/9/2019",
         23000,
         "Travel Card Wallet Transport",
         10.68,
         24,
         12433,
         "Norway"
        ],
        [
         581476,
         "12/9/2019",
         22998,
         "Travel Card Wallet Keep Calm",
         10.68,
         72,
         12433,
         "Norway"
        ],
        [
         581476,
         "12/9/2019",
         22994,
         "Travel Card Wallet Retrospot",
         10.68,
         48,
         12433,
         "Norway"
        ],
        [
         581476,
         "12/9/2019",
         22835,
         "Hot Water Bottle I Am So Poorly",
         15.32,
         8,
         12433,
         "Norway"
        ],
        [
         581476,
         "12/9/2019",
         22730,
         "Alarm Clock Bakelike Ivory",
         14.09,
         4,
         12433,
         "Norway"
        ],
        [
         581476,
         "12/9/2019",
         22728,
         "Alarm Clock Bakelike Pink",
         14.09,
         8,
         12433,
         "Norway"
        ],
        [
         581476,
         "12/9/2019",
         22727,
         "Alarm Clock Bakelike Red",
         14.09,
         8,
         12433,
         "Norway"
        ],
        [
         581476,
         "12/9/2019",
         22726,
         "Alarm Clock Bakelike Green",
         14.09,
         4,
         12433,
         "Norway"
        ],
        [
         581476,
         "12/9/2019",
         22720,
         "Set Of 3 Cake Tins Pantry Design",
         14.61,
         16,
         12433,
         "Norway"
        ],
        [
         581476,
         "12/9/2019",
         22693,
         "Grow A Flytrap Or Sunflower In Tin",
         11.34,
         192,
         12433,
         "Norway"
        ],
        [
         581476,
         "12/9/2019",
         22670,
         "French Wc Sign Blue Metal",
         11.53,
         24,
         12433,
         "Norway"
        ],
        [
         581476,
         "12/9/2019",
         22667,
         "Recipe Box Retrospot",
         12.86,
         24,
         12433,
         "Norway"
        ],
        [
         581476,
         "12/9/2019",
         22666,
         "Recipe Box Pantry Yellow Design",
         12.86,
         24,
         12433,
         "Norway"
        ],
        [
         581476,
         "12/9/2019",
         22631,
         "Circus Parade Lunch Box",
         12.25,
         12,
         12433,
         "Norway"
        ],
        [
         581476,
         "12/9/2019",
         22628,
         "Picnic Boxes Set Of 3 Retrospot",
         15.32,
         16,
         12433,
         "Norway"
        ],
        [
         581476,
         "12/9/2019",
         22467,
         "Gumball Coat Rack",
         12.86,
         6,
         12433,
         "Norway"
        ],
        [
         581476,
         "12/9/2019",
         22197,
         "Popcorn Holder",
         10.99,
         100,
         12433,
         "Norway"
        ],
        [
         581476,
         "12/9/2019",
         22114,
         "Hot Water Bottle Tea And Sympathy",
         14.61,
         8,
         12433,
         "Norway"
        ],
        [
         581476,
         "12/9/2019",
         22112,
         "Chocolate Hot Water Bottle",
         15.32,
         9,
         12433,
         "Norway"
        ],
        [
         581476,
         "12/9/2019",
         21908,
         "Chocolate This Way Metal Sign",
         12.4,
         36,
         12433,
         "Norway"
        ],
        [
         581476,
         "12/9/2019",
         21874,
         "Gin And Tonic Mug",
         11.74,
         36,
         12433,
         "Norway"
        ],
        [
         581476,
         "12/9/2019",
         21872,
         "Glamorous Mug",
         11.53,
         12,
         12433,
         "Norway"
        ]
       ],
       "datasetInfos": [],
       "dbfsResultPath": null,
       "isJsonSchema": true,
       "metadata": {
        "isDbfsCommandResult": false
       },
       "overflow": false,
       "plotOptions": {
        "customPlotOptions": {},
        "displayType": "table",
        "pivotAggregation": null,
        "pivotColumns": null,
        "xColumns": null,
        "yColumns": null
       },
       "removedWidgets": [],
       "schema": [
        {
         "metadata": "{}",
         "name": "TransactionNo",
         "type": "\"integer\""
        },
        {
         "metadata": "{}",
         "name": "Date",
         "type": "\"string\""
        },
        {
         "metadata": "{}",
         "name": "ProductNo",
         "type": "\"integer\""
        },
        {
         "metadata": "{}",
         "name": "ProductName",
         "type": "\"string\""
        },
        {
         "metadata": "{}",
         "name": "Price",
         "type": "\"double\""
        },
        {
         "metadata": "{}",
         "name": "Quantity",
         "type": "\"integer\""
        },
        {
         "metadata": "{}",
         "name": "CustomerNo",
         "type": "\"integer\""
        },
        {
         "metadata": "{}",
         "name": "Country",
         "type": "\"string\""
        }
       ],
       "type": "table"
      }
     },
     "output_type": "display_data"
    }
   ],
   "source": [
    "# Defining Schema \n",
    "from pyspark.sql.functions import col, from_json\n",
    "from pyspark.sql.types import StructType, StructField, IntegerType, StringType, DoubleType, DateType\n",
    "\n",
    "df = df.withColumn(\"value\", col(\"value\").cast(StringType()))\n",
    "\n",
    "schema = StructType([\n",
    "    StructField(\"TransactionNo\", IntegerType(), True),\n",
    "    StructField(\"Date\", StringType(), True),\n",
    "    StructField(\"ProductNo\", IntegerType(), True),\n",
    "    StructField(\"ProductName\", StringType(), True),\n",
    "    StructField(\"Price\", DoubleType(), True),\n",
    "    StructField(\"Quantity\", IntegerType(), True),\n",
    "    StructField(\"CustomerNo\", IntegerType(), True),\n",
    "    StructField(\"Country\", StringType(), True)\n",
    "])\n",
    "# Decoding the Message\n",
    "df_decoded = df \\\n",
    "    .withColumn(\"decoded_Value\", from_json(col(\"value\"), schema)) \\\n",
    "    .select(\"decoded_Value.*\")\n",
    "\n",
    "display(df_decoded)"
   ]
  },
  {
   "cell_type": "code",
   "execution_count": 0,
   "metadata": {
    "application/vnd.databricks.v1+cell": {
     "cellMetadata": {
      "byteLimit": 2048000,
      "rowLimit": 10000
     },
     "inputWidgets": {},
     "nuid": "53e8a94f-d6d1-494f-964e-d4e631372517",
     "showTitle": false,
     "title": ""
    }
   },
   "outputs": [
    {
     "output_type": "stream",
     "name": "stdout",
     "output_type": "stream",
     "text": [
      "root\n |-- TransactionNo: integer (nullable = true)\n |-- Date: string (nullable = true)\n |-- ProductNo: integer (nullable = true)\n |-- ProductName: string (nullable = true)\n |-- Price: double (nullable = true)\n |-- Quantity: integer (nullable = true)\n |-- CustomerNo: integer (nullable = true)\n |-- Country: string (nullable = true)\n\n"
     ]
    }
   ],
   "source": [
    "df_decoded.printSchema()"
   ]
  },
  {
   "cell_type": "code",
   "execution_count": 0,
   "metadata": {
    "application/vnd.databricks.v1+cell": {
     "cellMetadata": {
      "byteLimit": 2048000,
      "rowLimit": 10000
     },
     "inputWidgets": {},
     "nuid": "5fb3a5e0-9543-40a3-a7b4-3057be3a8ae9",
     "showTitle": false,
     "title": ""
    }
   },
   "outputs": [],
   "source": [
    "# add Total Column ==-> Quantity * Price\n",
    "data_t1 = df_decoded.withColumn('Total' , F.col('Quantity') * F.col('Price'))"
   ]
  },
  {
   "cell_type": "code",
   "execution_count": 0,
   "metadata": {
    "application/vnd.databricks.v1+cell": {
     "cellMetadata": {
      "byteLimit": 2048000,
      "rowLimit": 10000
     },
     "inputWidgets": {},
     "nuid": "a360c574-d1b7-46da-9b0d-97fc2cde90e2",
     "showTitle": false,
     "title": ""
    }
   },
   "outputs": [],
   "source": [
    "# convert Date Column to [Date] data type \n",
    "data_t2 = data_t1.withColumn(\"Date\", F.to_date(col(\"Date\"), 'MM/dd/yyyy'))\n"
   ]
  },
  {
   "cell_type": "code",
   "execution_count": 0,
   "metadata": {
    "application/vnd.databricks.v1+cell": {
     "cellMetadata": {
      "byteLimit": 2048000,
      "rowLimit": 10000
     },
     "inputWidgets": {},
     "nuid": "701177d6-bd2a-4adb-9651-c19f210ef8ca",
     "showTitle": false,
     "title": ""
    }
   },
   "outputs": [
    {
     "output_type": "stream",
     "name": "stdout",
     "output_type": "stream",
     "text": [
      "root\n |-- TransactionNo: integer (nullable = true)\n |-- Date: date (nullable = true)\n |-- ProductNo: integer (nullable = true)\n |-- ProductName: string (nullable = true)\n |-- Price: double (nullable = true)\n |-- Quantity: integer (nullable = true)\n |-- CustomerNo: integer (nullable = true)\n |-- Country: string (nullable = true)\n |-- Total: double (nullable = true)\n\n"
     ]
    }
   ],
   "source": [
    "data_t2.printSchema()"
   ]
  },
  {
   "cell_type": "code",
   "execution_count": 0,
   "metadata": {
    "application/vnd.databricks.v1+cell": {
     "cellMetadata": {
      "byteLimit": 2048000,
      "rowLimit": 10000
     },
     "inputWidgets": {},
     "nuid": "e5f5f5d7-10ff-4d3f-9dcf-57b2a296a070",
     "showTitle": false,
     "title": ""
    }
   },
   "outputs": [],
   "source": [
    "# sink the processed streaming data into snowFlake\n",
    "\n",
    "checkpoint_path = \"/FileStore/tables/checkpoint\"\n",
    "output_path = \"/FileStore/tables/sources\"\n",
    "\n",
    "options = {\n",
    "  \"sfUrl\": \"https://phjstqx-dg06449.snowflakecomputing.com\",\n",
    "  \"sfUser\": \"mohamed1\",\n",
    "  \"sfPassword\": \"\",\n",
    "  \"sfDatabase\": \"BIKESTORES\",\n",
    "  \"sfSchema\": \"PRODUCTION\",\n",
    "  \"sfWarehouse\": \"MOHAMED_WAREHOUSE\"\n",
    "}\n",
    "\n",
    "data_t2.writeStream \\\n",
    "    .format(\"snowflake\") \\\n",
    "    .options(**options) \\\n",
    "    .option(\"dbtable\", \"Trans_table\") \\\n",
    "    .outputMode(\"append\") \\\n",
    "    .option(\"checkpointLocation\", checkpoint_path) \\\n",
    "    .start().awaitTermination()\n"
   ]
  }
 ],
 "metadata": {
  "application/vnd.databricks.v1+notebook": {
   "dashboards": [],
   "language": "python",
   "notebookMetadata": {
    "pythonIndentUnit": 4
   },
   "notebookName": "Spark Streaming",
   "widgets": {}
  }
 },
 "nbformat": 4,
 "nbformat_minor": 0
}
